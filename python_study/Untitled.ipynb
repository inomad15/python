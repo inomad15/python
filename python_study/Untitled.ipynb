{
 "cells": [
  {
   "cell_type": "code",
   "execution_count": 1,
   "metadata": {
    "collapsed": false
   },
   "outputs": [
    {
     "name": "stdout",
     "output_type": "stream",
     "text": [
      "[71, 839, 1471, 6857]\n"
     ]
    }
   ],
   "source": [
    "def primefactor(num):\n",
    "    startnum = 2\n",
    "    primelist =[]\n",
    "    quota = 0\n",
    "    rest = 0\n",
    "    \n",
    "    while True:\n",
    "        quota = num/startnum\n",
    "        rest = num%startnum\n",
    "        if rest == 0:\n",
    "            primelist.append(startnum)\n",
    "            num = quota\n",
    "        else:\n",
    "            startnum = startnum + 1\n",
    "        if quota == 1 and rest == 0:\n",
    "            break\n",
    "    return primelist\n",
    "\n",
    "primelist = primefactor(600851475143)\n",
    "print(primelist)     "
   ]
  },
  {
   "cell_type": "code",
   "execution_count": null,
   "metadata": {
    "collapsed": true
   },
   "outputs": [],
   "source": []
  }
 ],
 "metadata": {
  "kernelspec": {
   "display_name": "Python 2",
   "language": "python",
   "name": "python2"
  },
  "language_info": {
   "codemirror_mode": {
    "name": "ipython",
    "version": 2
   },
   "file_extension": ".py",
   "mimetype": "text/x-python",
   "name": "python",
   "nbconvert_exporter": "python",
   "pygments_lexer": "ipython2",
   "version": "2.7.10"
  }
 },
 "nbformat": 4,
 "nbformat_minor": 0
}
