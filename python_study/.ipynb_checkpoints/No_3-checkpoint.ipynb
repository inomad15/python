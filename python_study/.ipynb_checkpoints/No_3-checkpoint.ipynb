{
 "cells": [
  {
   "cell_type": "markdown",
   "metadata": {},
   "source": [
    "(3) 600851475143 의 소인수 중에서 가장 큰 수를 구하세요."
   ]
  },
  {
   "cell_type": "code",
   "execution_count": 2,
   "metadata": {
    "collapsed": false
   },
   "outputs": [
    {
     "name": "stdout",
     "output_type": "stream",
     "text": [
      "[71, 839, 1471, 6857]\n"
     ]
    }
   ],
   "source": [
    "def primefactors(num):\n",
    "    startnum=2\n",
    "    primeNumbers=[]\n",
    "    \n",
    "    quota=0\n",
    "    rest=0\n",
    "    \n",
    "    while True:\n",
    "        quota=num/startnum\n",
    "        rest=num%startnum\n",
    "        \n",
    "        if rest==0:\n",
    "            primeNumbers.append(startnum)\n",
    "            num=quota\n",
    "        \n",
    "        else:\n",
    "            startnum=startnum+1\n",
    "            \n",
    "        if quota==1 and rest==0:\n",
    "            break\n",
    "            \n",
    "    return primeNumbers\n",
    "            \n",
    "primeNumbers=primefactors(600851475143)\n",
    "print(primeNumbers)\n"
   ]
  },
  {
   "cell_type": "code",
   "execution_count": null,
   "metadata": {
    "collapsed": true
   },
   "outputs": [],
   "source": []
  }
 ],
 "metadata": {
  "kernelspec": {
   "display_name": "Python 3",
   "language": "python",
   "name": "python3"
  },
  "language_info": {
   "codemirror_mode": {
    "name": "ipython",
    "version": 3
   },
   "file_extension": ".py",
   "mimetype": "text/x-python",
   "name": "python",
   "nbconvert_exporter": "python",
   "pygments_lexer": "ipython3",
   "version": "3.5.1"
  }
 },
 "nbformat": 4,
 "nbformat_minor": 0
}
