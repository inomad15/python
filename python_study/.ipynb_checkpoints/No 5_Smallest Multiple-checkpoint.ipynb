{
 "cells": [
  {
   "cell_type": "markdown",
   "metadata": {},
   "source": [
    "1 - 10 사이의 어떤 수로도 나누어 떨어지는 가장 작은 수는 2520입니다.\n",
    "그러면 1 - 20 사이의 어떤 수로도 나누어 떨어지는 가장 작은 수는 얼마입니까?"
   ]
  },
  {
   "cell_type": "code",
   "execution_count": 1,
   "metadata": {
    "collapsed": false
   },
   "outputs": [
    {
     "name": "stdout",
     "output_type": "stream",
     "text": [
      "232792560\n",
      "CPU times: user 72 µs, sys: 15 µs, total: 87 µs\n",
      "Wall time: 76.1 µs\n"
     ]
    }
   ],
   "source": [
    "from functools import reduce\n",
    "\n",
    "def gcd(a, b):\n",
    "    a, b = (a, b) if a > b else (b, a)\n",
    "    if b is 0:\n",
    "        return b\n",
    "    if a % b == 0:\n",
    "        return b\n",
    "    return gcd(b, (a%b))\n",
    "\n",
    "def lcm(a, b):\n",
    "    g = gcd(a, b)\n",
    "    return a * b // g\n",
    "\n",
    "def e005():\n",
    "    result = reduce(lcm, range(1, 21))\n",
    "    print(result)\n",
    "    \n",
    "%time e005()"
   ]
  },
  {
   "cell_type": "code",
   "execution_count": null,
   "metadata": {
    "collapsed": true
   },
   "outputs": [],
   "source": []
  }
 ],
 "metadata": {
  "kernelspec": {
   "display_name": "Python 2",
   "language": "python",
   "name": "python2"
  },
  "language_info": {
   "codemirror_mode": {
    "name": "ipython",
    "version": 2
   },
   "file_extension": ".py",
   "mimetype": "text/x-python",
   "name": "python",
   "nbconvert_exporter": "python",
   "pygments_lexer": "ipython2",
   "version": "2.7.10"
  }
 },
 "nbformat": 4,
 "nbformat_minor": 0
}
