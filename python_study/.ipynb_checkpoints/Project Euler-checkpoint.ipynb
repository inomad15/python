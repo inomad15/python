{
 "cells": [
  {
   "cell_type": "markdown",
   "metadata": {},
   "source": [
    "(1) 1000보다 작은 자연수 중에서 3 또는 5의 배수를 모두 더하면?"
   ]
  },
  {
   "cell_type": "code",
   "execution_count": 9,
   "metadata": {
    "collapsed": false,
    "scrolled": true
   },
   "outputs": [
    {
     "name": "stdout",
     "output_type": "stream",
     "text": [
      "499500\n"
     ]
    }
   ],
   "source": [
    "sum1 = 0\n",
    "for i in range(1, 1000):\n",
    "    i%3==0 or i%5==0\n",
    "    sum1 += i\n",
    "\n",
    "print(sum1)   "
   ]
  },
  {
   "cell_type": "markdown",
   "metadata": {},
   "source": [
    "(2) 피보나치 수열에서 4백만 이하이면서 짝수인 항의 합"
   ]
  },
  {
   "cell_type": "code",
   "execution_count": 7,
   "metadata": {
    "collapsed": false
   },
   "outputs": [
    {
     "name": "stdout",
     "output_type": "stream",
     "text": [
      "4613732\n"
     ]
    }
   ],
   "source": [
    "a = 0\n",
    "b = 1\n",
    "sum2 = 0\n",
    "while a < 4000000:\n",
    "    a, b = b, a+b\n",
    "    if a%2 == 0:\n",
    "        sum2 += a\n",
    "\n",
    "print(sum2)"
   ]
  },
  {
   "cell_type": "markdown",
   "metadata": {},
   "source": [
    "(3) 600851475143 의 소인수 중에서 가장 큰 수를 구하세요."
   ]
  },
  {
   "cell_type": "code",
   "execution_count": null,
   "metadata": {
    "collapsed": false
   },
   "outputs": [],
   "source": [
    "def primefactors(num):\n",
    "    startnum=2\n",
    "    primeNumbers=[]\n",
    "    \n",
    "    quota=0\n",
    "    rest=0\n",
    "    \n",
    "    while True:\n",
    "        quota=num/startnum\n",
    "        rest=num%startnum\n",
    "        \n",
    "        if rest==0:\n",
    "            primeNumbers.append(startnum)\n",
    "            num=quota\n",
    "        \n",
    "        else:\n",
    "            startnum=startnum+1\n",
    "            \n",
    "        if quota==1 and rest==0:\n",
    "            break\n",
    "            \n",
    "    return primeNumbers\n",
    "            \n",
    "primeNumbers=primefactors(600851475143)\n",
    "print(primeNumbers)\n"
   ]
  },
  {
   "cell_type": "code",
   "execution_count": null,
   "metadata": {
    "collapsed": true
   },
   "outputs": [],
   "source": []
  }
 ],
 "metadata": {
  "kernelspec": {
   "display_name": "Python 3",
   "language": "python",
   "name": "python3"
  },
  "language_info": {
   "codemirror_mode": {
    "name": "ipython",
    "version": 3
   },
   "file_extension": ".py",
   "mimetype": "text/x-python",
   "name": "python",
   "nbconvert_exporter": "python",
   "pygments_lexer": "ipython3",
   "version": "3.5.1"
  }
 },
 "nbformat": 4,
 "nbformat_minor": 0
}
