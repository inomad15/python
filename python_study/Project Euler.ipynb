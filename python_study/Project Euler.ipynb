{
 "cells": [
  {
   "cell_type": "code",
   "execution_count": 1,
   "metadata": {
    "collapsed": true
   },
   "outputs": [],
   "source": [
    "from functools import reduce\n",
    "\n",
    "def gcd(a, b):\n",
    "    a, b = (a, b) if a > b else (b, a)\n",
    "    if b == 0:\n",
    "        return b\n",
    "    if a%b == 0:\n",
    "        return b\n",
    "    return gcd(b, (a%b))\n",
    "\n",
    "def lcm(a, b):\n",
    "    g = gcd(a, b)\n",
    "    return a * b // g\n",
    "    \n",
    "def e005():\n",
    "    s= reduce(lcm, range(1, 21))\n",
    "    print(s)"
   ]
  },
  {
   "cell_type": "code",
   "execution_count": 2,
   "metadata": {
    "collapsed": false
   },
   "outputs": [
    {
     "name": "stdout",
     "output_type": "stream",
     "text": [
      "232792560\n",
      "CPU times: user 57 µs, sys: 1 µs, total: 58 µs\n",
      "Wall time: 61 µs\n"
     ]
    }
   ],
   "source": [
    "%time e005()"
   ]
  },
  {
   "cell_type": "code",
   "execution_count": null,
   "metadata": {
    "collapsed": true
   },
   "outputs": [],
   "source": []
  }
 ],
 "metadata": {
  "kernelspec": {
   "display_name": "Python 3",
   "language": "python",
   "name": "python3"
  },
  "language_info": {
   "codemirror_mode": {
    "name": "ipython",
    "version": 3
   },
   "file_extension": ".py",
   "mimetype": "text/x-python",
   "name": "python",
   "nbconvert_exporter": "python",
   "pygments_lexer": "ipython3",
   "version": "3.5.1"
  }
 },
 "nbformat": 4,
 "nbformat_minor": 0
}
